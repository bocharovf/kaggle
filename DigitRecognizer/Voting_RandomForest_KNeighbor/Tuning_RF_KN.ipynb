{
 "cells": [
  {
   "cell_type": "code",
   "execution_count": 1,
   "metadata": {
    "collapsed": true
   },
   "outputs": [],
   "source": [
    "import matplotlib.pyplot as plt\n",
    "import numpy as np\n",
    "import pandas as pd\n",
    "\n",
    "from sklearn.preprocessing import normalize\n",
    "from sklearn.feature_selection import VarianceThreshold\n",
    "\n",
    "from sklearn import cross_validation\n",
    "from sklearn.ensemble import RandomForestClassifier\n",
    "from sklearn.neighbors import KNeighborsClassifier\n",
    "from sklearn.grid_search import GridSearchCV\n",
    "\n",
    "from operator import itemgetter"
   ]
  },
  {
   "cell_type": "code",
   "execution_count": 2,
   "metadata": {
    "collapsed": true
   },
   "outputs": [],
   "source": [
    "%matplotlib inline"
   ]
  },
  {
   "cell_type": "markdown",
   "metadata": {},
   "source": [
    "# Import data"
   ]
  },
  {
   "cell_type": "code",
   "execution_count": 3,
   "metadata": {
    "collapsed": false
   },
   "outputs": [],
   "source": [
    "# load data\n",
    "rawTrain = pd.read_csv(\"../input/train.csv\").astype(float)\n",
    "rawTest = pd.read_csv(\"../input/test.csv\").astype(float)\n",
    "\n",
    "# extract labels and features \n",
    "Y = rawTrain.ix[:,0].values\n",
    "rawX = rawTrain.ix[:,1:].values"
   ]
  },
  {
   "cell_type": "markdown",
   "metadata": {},
   "source": [
    "# Prepare data"
   ]
  },
  {
   "cell_type": "code",
   "execution_count": 4,
   "metadata": {
    "collapsed": false
   },
   "outputs": [
    {
     "data": {
      "text/plain": [
       "(42000L, 784L)"
      ]
     },
     "execution_count": 4,
     "metadata": {},
     "output_type": "execute_result"
    }
   ],
   "source": [
    "normX = normalize(rawX)\n",
    "normTest = normalize(rawTest.values)\n",
    "normX.shape"
   ]
  },
  {
   "cell_type": "markdown",
   "metadata": {},
   "source": [
    "# Remove features with zero variance"
   ]
  },
  {
   "cell_type": "code",
   "execution_count": 5,
   "metadata": {
    "collapsed": false
   },
   "outputs": [
    {
     "data": {
      "text/plain": [
       "(42000L, 708L)"
      ]
     },
     "execution_count": 5,
     "metadata": {},
     "output_type": "execute_result"
    }
   ],
   "source": [
    "selector = VarianceThreshold()\n",
    "X = selector.fit_transform(normX)\n",
    "X.shape"
   ]
  },
  {
   "cell_type": "markdown",
   "metadata": {},
   "source": [
    "# Tuning hyperparameters"
   ]
  },
  {
   "cell_type": "code",
   "execution_count": 6,
   "metadata": {
    "collapsed": true
   },
   "outputs": [],
   "source": [
    "def report(grid_scores, n_top=3):\n",
    "    \"\"\"Print top N best combinations\"\"\"\n",
    "    top_scores = sorted(grid_scores, key=itemgetter(1), reverse=True)[:n_top]\n",
    "    for i, score in enumerate(top_scores):\n",
    "        print(\"Model with rank: {0}\".format(i + 1))\n",
    "        print(\"Mean validation score: {0:.3f} (std: {1:.3f})\".format(\n",
    "              score.mean_validation_score,\n",
    "              np.std(score.cv_validation_scores)))\n",
    "        print(\"Parameters: {0}\".format(score.parameters))\n",
    "        print(\"\")\n",
    "        \n",
    "def tuneRandomForest(X, Y):\n",
    "    \"\"\"Tune hyperparameters for Random Forest\"\"\"\n",
    "    param_grid = {\n",
    "                    \"n_estimators\": [100],\n",
    "                    \"max_features\": [30, 40, 50, 60, 80],\n",
    "                    \"min_samples_split\": [1, 3, 10],\n",
    "                    \"min_samples_leaf\": [1, 3, 10],\n",
    "                    \"bootstrap\": [False]\n",
    "                }\n",
    "    grid = GridSearchCV(RandomForestClassifier(), param_grid=param_grid, cv=5, n_jobs =-1)\n",
    "    grid.fit(X, Y)\n",
    "    report(grid.grid_scores_)\n",
    "    \n",
    "def tuneKNeighbors(X, Y):\n",
    "    \"\"\"Tune hyperparameters for KNeighbors\"\"\"\n",
    "    param_grid = {\n",
    "                    \"n_neighbors\": [3, 4, 5],\n",
    "                    \"weights\": [\"uniform\", \"distance\"]\n",
    "                }\n",
    "    grid = GridSearchCV(KNeighborsClassifier(), param_grid=param_grid, cv=5, n_jobs =-1)\n",
    "    grid.fit(X, Y)\n",
    "    report(grid.grid_scores_)"
   ]
  },
  {
   "cell_type": "code",
   "execution_count": 7,
   "metadata": {
    "collapsed": false
   },
   "outputs": [
    {
     "name": "stdout",
     "output_type": "stream",
     "text": [
      "Model with rank: 1\n",
      "Mean validation score: 0.973 (std: 0.001)\n",
      "Parameters: {'n_neighbors': 4, 'weights': 'distance'}\n",
      "\n",
      "Model with rank: 2\n",
      "Mean validation score: 0.972 (std: 0.002)\n",
      "Parameters: {'n_neighbors': 3, 'weights': 'distance'}\n",
      "\n",
      "Model with rank: 3\n",
      "Mean validation score: 0.972 (std: 0.002)\n",
      "Parameters: {'n_neighbors': 5, 'weights': 'distance'}\n",
      "\n"
     ]
    }
   ],
   "source": [
    "tuneKNeighbors(X, Y)"
   ]
  },
  {
   "cell_type": "code",
   "execution_count": 8,
   "metadata": {
    "collapsed": false
   },
   "outputs": [
    {
     "name": "stdout",
     "output_type": "stream",
     "text": [
      "Model with rank: 1\n",
      "Mean validation score: 0.968 (std: 0.001)\n",
      "Parameters: {'max_features': 30, 'min_samples_split': 3, 'bootstrap': False, 'n_estimators': 100, 'min_samples_leaf': 1}\n",
      "\n",
      "Model with rank: 2\n",
      "Mean validation score: 0.968 (std: 0.001)\n",
      "Parameters: {'max_features': 40, 'min_samples_split': 1, 'bootstrap': False, 'n_estimators': 100, 'min_samples_leaf': 1}\n",
      "\n",
      "Model with rank: 3\n",
      "Mean validation score: 0.968 (std: 0.001)\n",
      "Parameters: {'max_features': 30, 'min_samples_split': 1, 'bootstrap': False, 'n_estimators': 100, 'min_samples_leaf': 1}\n",
      "\n"
     ]
    }
   ],
   "source": [
    "tuneRandomForest(X, Y)"
   ]
  }
 ],
 "metadata": {
  "kernelspec": {
   "display_name": "Python 2",
   "language": "python",
   "name": "python2"
  },
  "language_info": {
   "codemirror_mode": {
    "name": "ipython",
    "version": 2
   },
   "file_extension": ".py",
   "mimetype": "text/x-python",
   "name": "python",
   "nbconvert_exporter": "python",
   "pygments_lexer": "ipython2",
   "version": "2.7.12"
  }
 },
 "nbformat": 4,
 "nbformat_minor": 1
}
