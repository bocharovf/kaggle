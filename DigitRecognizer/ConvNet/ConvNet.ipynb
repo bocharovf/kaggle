{
 "cells": [
  {
   "cell_type": "code",
   "execution_count": 54,
   "metadata": {
    "collapsed": false
   },
   "outputs": [],
   "source": [
    "import numpy as np\n",
    "import pandas as pd\n",
    "from keras.datasets import cifar10\n",
    "from keras.models import Sequential\n",
    "from keras.layers import Dense\n",
    "from keras.layers import Dropout\n",
    "from keras.layers import Flatten\n",
    "from keras.constraints import maxnorm\n",
    "from keras.optimizers import SGD\n",
    "from keras.layers.convolutional import Convolution2D\n",
    "from keras.layers.convolutional import MaxPooling2D\n",
    "from keras.utils import np_utils"
   ]
  },
  {
   "cell_type": "code",
   "execution_count": 55,
   "metadata": {
    "collapsed": false
   },
   "outputs": [],
   "source": [
    "# fix random seed for reproducibility\n",
    "seed = 7\n",
    "np.random.seed(seed)"
   ]
  },
  {
   "cell_type": "code",
   "execution_count": 56,
   "metadata": {
    "collapsed": false
   },
   "outputs": [],
   "source": [
    "# load data\n",
    "rawData = pd.read_csv(\"../input/train.csv\").values\n",
    "rawSubmission = pd.read_csv(\"../input/test.csv\").values.astype(\"float32\")"
   ]
  },
  {
   "cell_type": "code",
   "execution_count": 57,
   "metadata": {
    "collapsed": false
   },
   "outputs": [],
   "source": [
    "np.random.shuffle(rawData)\n",
    "\n",
    "training, test = rawData[:32000,:], rawData[32000:,:]\n",
    "\n",
    "# extract labels and features \n",
    "rawTrainY = training[:,0].astype(\"int\")\n",
    "trainY = np_utils.to_categorical(rawTrainY)\n",
    "\n",
    "rawTestY = test[:,0].astype(\"int\")\n",
    "testY = np_utils.to_categorical(rawTestY)\n",
    "\n",
    "trainRawX = training[:,1:].astype(\"float32\")\n",
    "trainNormX = trainRawX / 255.0\n",
    "trainX = trainNormX.reshape( (32000,28,28,1) )\n",
    "\n",
    "testRawX = test[:,1:].astype(\"float32\")\n",
    "testNormX = testRawX / 255.0\n",
    "testX = testNormX.reshape( (10000,28,28,1) )\n",
    "\n",
    "num_classes = trainY.shape[1]"
   ]
  },
  {
   "cell_type": "code",
   "execution_count": 58,
   "metadata": {
    "collapsed": false
   },
   "outputs": [],
   "source": [
    "model = Sequential()\n",
    "\n",
    "model.add(Convolution2D(32, 5, 5, input_shape=(28, 28, 1), border_mode='same', activation='relu', W_constraint=maxnorm(3)))\n",
    "model.add(Dropout(0.2))\n",
    "\n",
    "model.add(Convolution2D(32, 5, 5, activation='relu', border_mode='same', W_constraint=maxnorm(3)))\n",
    "model.add(MaxPooling2D(pool_size=(2, 2))) #add\n",
    "model.add(Dropout(0.2))\n",
    "\n",
    "model.add(Convolution2D(32, 5, 5, activation='relu', border_mode='same', W_constraint=maxnorm(3)))\n",
    "model.add(MaxPooling2D(pool_size=(2, 2)))\n",
    "\n",
    "model.add(Flatten())\n",
    "\n",
    "model.add(Dense(512, activation='relu', W_constraint=maxnorm(3)))\n",
    "model.add(Dropout(0.5))\n",
    "model.add(Dense(num_classes, activation='softmax'))"
   ]
  },
  {
   "cell_type": "code",
   "execution_count": 59,
   "metadata": {
    "collapsed": false
   },
   "outputs": [
    {
     "name": "stdout",
     "output_type": "stream",
     "text": [
      "____________________________________________________________________________________________________\n",
      "Layer (type)                     Output Shape          Param #     Connected to                     \n",
      "====================================================================================================\n",
      "convolution2d_16 (Convolution2D) (None, 28, 28, 32)    832         convolution2d_input_8[0][0]      \n",
      "____________________________________________________________________________________________________\n",
      "dropout_16 (Dropout)             (None, 28, 28, 32)    0           convolution2d_16[0][0]           \n",
      "____________________________________________________________________________________________________\n",
      "convolution2d_17 (Convolution2D) (None, 28, 28, 32)    25632       dropout_16[0][0]                 \n",
      "____________________________________________________________________________________________________\n",
      "maxpooling2d_8 (MaxPooling2D)    (None, 14, 14, 32)    0           convolution2d_17[0][0]           \n",
      "____________________________________________________________________________________________________\n",
      "dropout_17 (Dropout)             (None, 14, 14, 32)    0           maxpooling2d_8[0][0]             \n",
      "____________________________________________________________________________________________________\n",
      "convolution2d_18 (Convolution2D) (None, 14, 14, 32)    25632       dropout_17[0][0]                 \n",
      "____________________________________________________________________________________________________\n",
      "maxpooling2d_9 (MaxPooling2D)    (None, 7, 7, 32)      0           convolution2d_18[0][0]           \n",
      "____________________________________________________________________________________________________\n",
      "flatten_8 (Flatten)              (None, 1568)          0           maxpooling2d_9[0][0]             \n",
      "____________________________________________________________________________________________________\n",
      "dense_15 (Dense)                 (None, 512)           803328      flatten_8[0][0]                  \n",
      "____________________________________________________________________________________________________\n",
      "dropout_18 (Dropout)             (None, 512)           0           dense_15[0][0]                   \n",
      "____________________________________________________________________________________________________\n",
      "dense_16 (Dense)                 (None, 10)            5130        dropout_18[0][0]                 \n",
      "====================================================================================================\n",
      "Total params: 860554\n",
      "____________________________________________________________________________________________________\n",
      "None\n"
     ]
    }
   ],
   "source": [
    "# Compile model\n",
    "epochs = 5\n",
    "lrate = 0.01\n",
    "decay = lrate/epochs\n",
    "sgd = SGD(lr=lrate, momentum=0.9, decay=decay, nesterov=False)\n",
    "model.compile(loss='categorical_crossentropy', optimizer=sgd, metrics=['accuracy'])\n",
    "#print(model.summary())"
   ]
  },
  {
   "cell_type": "code",
   "execution_count": 60,
   "metadata": {
    "collapsed": false
   },
   "outputs": [
    {
     "name": "stdout",
     "output_type": "stream",
     "text": [
      "Train on 32000 samples, validate on 10000 samples\n",
      "Epoch 1/5\n",
      "32000/32000 [==============================] - 366s - loss: 0.3286 - acc: 0.8908 - val_loss: 0.0792 - val_acc: 0.9730\n",
      "Epoch 2/5\n",
      "32000/32000 [==============================] - 410s - loss: 0.0864 - acc: 0.9728 - val_loss: 0.0568 - val_acc: 0.9818\n",
      "Epoch 3/5\n",
      "32000/32000 [==============================] - 406s - loss: 0.0654 - acc: 0.9796 - val_loss: 0.0475 - val_acc: 0.9852\n",
      "Epoch 4/5\n",
      "32000/32000 [==============================] - 398s - loss: 0.0538 - acc: 0.9835 - val_loss: 0.0449 - val_acc: 0.9857\n",
      "Epoch 5/5\n",
      "32000/32000 [==============================] - 436s - loss: 0.0495 - acc: 0.9843 - val_loss: 0.0421 - val_acc: 0.9867\n",
      "Accuracy: 98.67%\n"
     ]
    }
   ],
   "source": [
    "#model.fit(trainX, trainY, validation_data=(testX, testY), nb_epoch=epochs, batch_size=32)\n",
    "model.fit(trainX, trainY, validation_data=(testX, testY), nb_epoch=epochs, batch_size=32)\n",
    "\n",
    "# Final evaluation of the model\n",
    "#scores = model.evaluate(testX, testY, verbose=0)\n",
    "#print(\"Accuracy: %.2f%%\" % (scores[1]*100))"
   ]
  },
  {
   "cell_type": "code",
   "execution_count": 61,
   "metadata": {
    "collapsed": true
   },
   "outputs": [],
   "source": [
    "model.save('3l_32f_5x5.h5')"
   ]
  }
 ],
 "metadata": {
  "anaconda-cloud": {},
  "kernelspec": {
   "display_name": "Python [default]",
   "language": "python",
   "name": "python3"
  },
  "language_info": {
   "codemirror_mode": {
    "name": "ipython",
    "version": 3
   },
   "file_extension": ".py",
   "mimetype": "text/x-python",
   "name": "python",
   "nbconvert_exporter": "python",
   "pygments_lexer": "ipython3",
   "version": "3.5.2"
  }
 },
 "nbformat": 4,
 "nbformat_minor": 0
}
